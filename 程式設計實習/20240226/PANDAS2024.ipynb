{
  "cells": [
    {
      "cell_type": "markdown",
      "metadata": {
        "id": "zQqcejLEKdEV"
      },
      "source": [
        "# 01.What is Pandas?\n",
        "一個開源的Python第三方套件: 用於**數據分析, 數據處理, 數據可視化**\n",
        "* 高性能\n",
        "* 容易使用的數據結構\n",
        "* 容易使用的數據分析工具\n",
        "\n",
        "方便與其他套件一起使用\n",
        "* **Numpy**: 用於數學計算\n",
        "* **SciKit-Learn**: 用於機器學習"
      ]
    },
    {
      "cell_type": "code",
      "execution_count": 1,
      "metadata": {
        "id": "qyaiVByfhG8h"
      },
      "outputs": [],
      "source": [
        "import pandas as pd\n",
        "import numpy as np"
      ]
    },
    {
      "cell_type": "markdown",
      "metadata": {
        "id": "2CGYH9sEnkCA"
      },
      "source": [
        "# 02.Pandas資料結構\n",
        "DataFrame & Series"
      ]
    },
    {
      "cell_type": "markdown",
      "metadata": {
        "id": "RxrQ-fVZoK2o"
      },
      "source": [
        "## Series\n",
        "Series是一種**\"一維物件資料\"**, 由一組資料(不同資料型態)以及一組與之相關的資料標籤(index, 索引)組成"
      ]
    },
    {
      "cell_type": "markdown",
      "metadata": {
        "id": "zU4L5ejMpT1Q"
      },
      "source": [
        "### 僅有資料列表即可產生最簡單的Series"
      ]
    },
    {
      "cell_type": "code",
      "execution_count": 2,
      "metadata": {},
      "outputs": [],
      "source": [
        "i = [1,2,3,4,5]"
      ]
    },
    {
      "cell_type": "markdown",
      "metadata": {
        "id": "6QrbJ9EFpfPp"
      },
      "source": [
        "### 創建一個具有標籤所引的Series"
      ]
    },
    {
      "cell_type": "code",
      "execution_count": 5,
      "metadata": {},
      "outputs": [],
      "source": [
        "pd.Series([1,2,3,4,5])\n",
        "s1 = pd.Series(i,index=['a','f','c','d','e'])"
      ]
    },
    {
      "cell_type": "markdown",
      "metadata": {
        "id": "Fu4CU25Yp7gA"
      },
      "source": [
        "### 使用Python的字典(Dictionary)創建Series"
      ]
    },
    {
      "cell_type": "code",
      "execution_count": 11,
      "metadata": {},
      "outputs": [
        {
          "data": {
            "text/plain": [
              "a      1\n",
              "b      a\n",
              "c    5.2\n",
              "d     57\n",
              "dtype: object"
            ]
          },
          "execution_count": 11,
          "metadata": {},
          "output_type": "execute_result"
        }
      ],
      "source": [
        "dic = {\n",
        "    'a':1,\n",
        "    'b':'a',\n",
        "    'c':5.2,\n",
        "    'd':57\n",
        "}\n",
        "s2 = pd.Series(dic)\n",
        "s2"
      ]
    },
    {
      "cell_type": "markdown",
      "metadata": {
        "id": "uDk0CqJ5qmeY"
      },
      "source": [
        "### 根據標籤索引查詢資料\n",
        "類似Python的字典(dict)"
      ]
    },
    {
      "cell_type": "code",
      "execution_count": 14,
      "metadata": {},
      "outputs": [
        {
          "data": {
            "text/plain": [
              "a    1\n",
              "b    a\n",
              "dtype: object"
            ]
          },
          "execution_count": 14,
          "metadata": {},
          "output_type": "execute_result"
        }
      ],
      "source": [
        "s2[['a','b']]"
      ]
    },
    {
      "cell_type": "markdown",
      "metadata": {
        "id": "w-L2OlfNt-GH"
      },
      "source": [
        "## DataFrame\n",
        "DataFrame是一個表格型的資料結構\n",
        "* 每列可以是不同的資料型態 (數值, 字串, 布林值... 等)\n",
        "* 既有索引(index), 也有標題(columns)\n",
        "* 可以被看作由Series組成的字典\n"
      ]
    },
    {
      "cell_type": "markdown",
      "metadata": {
        "id": "4eMCLJxCu-yP"
      },
      "source": [
        "### 根據多個字典創建DataFrame"
      ]
    },
    {
      "cell_type": "code",
      "execution_count": 19,
      "metadata": {},
      "outputs": [],
      "source": [
        "df = pd.DataFrame({\n",
        "    'state':['Ohio','Ohio','Ohio','Nevada','Nevada'],\n",
        "    'year':[2000,2001,2002,2003,2004],\n",
        "    'pop':[1.5,1.7,3.6,2.4,2.9]\n",
        "})"
      ]
    },
    {
      "cell_type": "markdown",
      "metadata": {
        "id": "gP2-eU19wnX-"
      },
      "source": [
        "### 從DataFrame中查詢出Series\n",
        "* 如果是只查詢一列, 回傳的是pd.Series\n",
        "* 如果是查尋多行多列, 回傳的是pd.DataFrame"
      ]
    },
    {
      "cell_type": "code",
      "execution_count": 20,
      "metadata": {},
      "outputs": [
        {
          "data": {
            "text/plain": [
              "pandas.core.series.Series"
            ]
          },
          "execution_count": 20,
          "metadata": {},
          "output_type": "execute_result"
        }
      ],
      "source": [
        "type(df['year'])"
      ]
    },
    {
      "cell_type": "code",
      "execution_count": 21,
      "metadata": {},
      "outputs": [
        {
          "data": {
            "text/html": [
              "<div>\n",
              "<style scoped>\n",
              "    .dataframe tbody tr th:only-of-type {\n",
              "        vertical-align: middle;\n",
              "    }\n",
              "\n",
              "    .dataframe tbody tr th {\n",
              "        vertical-align: top;\n",
              "    }\n",
              "\n",
              "    .dataframe thead th {\n",
              "        text-align: right;\n",
              "    }\n",
              "</style>\n",
              "<table border=\"1\" class=\"dataframe\">\n",
              "  <thead>\n",
              "    <tr style=\"text-align: right;\">\n",
              "      <th></th>\n",
              "      <th>year</th>\n",
              "      <th>pop</th>\n",
              "    </tr>\n",
              "  </thead>\n",
              "  <tbody>\n",
              "    <tr>\n",
              "      <th>0</th>\n",
              "      <td>2000</td>\n",
              "      <td>1.5</td>\n",
              "    </tr>\n",
              "    <tr>\n",
              "      <th>1</th>\n",
              "      <td>2001</td>\n",
              "      <td>1.7</td>\n",
              "    </tr>\n",
              "    <tr>\n",
              "      <th>2</th>\n",
              "      <td>2002</td>\n",
              "      <td>3.6</td>\n",
              "    </tr>\n",
              "    <tr>\n",
              "      <th>3</th>\n",
              "      <td>2003</td>\n",
              "      <td>2.4</td>\n",
              "    </tr>\n",
              "    <tr>\n",
              "      <th>4</th>\n",
              "      <td>2004</td>\n",
              "      <td>2.9</td>\n",
              "    </tr>\n",
              "  </tbody>\n",
              "</table>\n",
              "</div>"
            ],
            "text/plain": [
              "   year  pop\n",
              "0  2000  1.5\n",
              "1  2001  1.7\n",
              "2  2002  3.6\n",
              "3  2003  2.4\n",
              "4  2004  2.9"
            ]
          },
          "execution_count": 21,
          "metadata": {},
          "output_type": "execute_result"
        }
      ],
      "source": [
        "df[['year','pop']]"
      ]
    },
    {
      "cell_type": "markdown",
      "metadata": {
        "id": "Ew8lb-9agKr6"
      },
      "source": [
        "# 03.Pandas讀取檔案"
      ]
    },
    {
      "cell_type": "markdown",
      "metadata": {
        "id": "IpM3Q3ApgVnq"
      },
      "source": [
        "## 讀取CSV\n",
        "使用默認標題, 以逗號分隔"
      ]
    },
    {
      "cell_type": "markdown",
      "metadata": {
        "id": "wTOnM7xEgum7"
      },
      "source": [
        "### 使用pd.read_csv讀取資料"
      ]
    },
    {
      "cell_type": "code",
      "execution_count": 23,
      "metadata": {},
      "outputs": [],
      "source": [
        "df_csv = pd.read_csv('assets/C0K400-2022-03.csv')"
      ]
    },
    {
      "cell_type": "markdown",
      "metadata": {
        "id": "40Ww6jjKcD3w"
      },
      "source": [
        "### 資料修改"
      ]
    },
    {
      "cell_type": "code",
      "execution_count": 25,
      "metadata": {},
      "outputs": [],
      "source": [
        "df_1 = df_csv.drop(0)"
      ]
    },
    {
      "cell_type": "markdown",
      "metadata": {
        "id": "dEn7sqUAg6vh"
      },
      "source": [
        "### 查看前幾行資料"
      ]
    },
    {
      "cell_type": "code",
      "execution_count": 26,
      "metadata": {},
      "outputs": [
        {
          "data": {
            "text/html": [
              "<div>\n",
              "<style scoped>\n",
              "    .dataframe tbody tr th:only-of-type {\n",
              "        vertical-align: middle;\n",
              "    }\n",
              "\n",
              "    .dataframe tbody tr th {\n",
              "        vertical-align: top;\n",
              "    }\n",
              "\n",
              "    .dataframe thead th {\n",
              "        text-align: right;\n",
              "    }\n",
              "</style>\n",
              "<table border=\"1\" class=\"dataframe\">\n",
              "  <thead>\n",
              "    <tr style=\"text-align: right;\">\n",
              "      <th></th>\n",
              "      <th>觀測時間(day)</th>\n",
              "      <th>測站氣壓(hPa)</th>\n",
              "      <th>海平面氣壓(hPa)</th>\n",
              "      <th>測站最高氣壓(hPa)</th>\n",
              "      <th>測站最高氣壓時間(LST)</th>\n",
              "      <th>測站最低氣壓(hPa)</th>\n",
              "      <th>測站最低氣壓時間(LST)</th>\n",
              "      <th>氣溫(℃)</th>\n",
              "      <th>最高氣溫(℃)</th>\n",
              "      <th>最高氣溫時間(LST)</th>\n",
              "      <th>...</th>\n",
              "      <th>最大六十分鐘降水量(mm)</th>\n",
              "      <th>最大六十分鐘降水量起始時間(LST)</th>\n",
              "      <th>日照時數(hour)</th>\n",
              "      <th>日照率(%)</th>\n",
              "      <th>全天空日射量(MJ/㎡)</th>\n",
              "      <th>能見度(km)</th>\n",
              "      <th>A型蒸發量(mm)</th>\n",
              "      <th>日最高紫外線指數</th>\n",
              "      <th>日最高紫外線指數時間(LST)</th>\n",
              "      <th>總雲量(0~10)</th>\n",
              "    </tr>\n",
              "  </thead>\n",
              "  <tbody>\n",
              "    <tr>\n",
              "      <th>1</th>\n",
              "      <td>01</td>\n",
              "      <td>1010.0</td>\n",
              "      <td>...</td>\n",
              "      <td>1012.4</td>\n",
              "      <td>2022-03-01 08:35</td>\n",
              "      <td>1007.7</td>\n",
              "      <td>2022-03-01 15:55</td>\n",
              "      <td>22.5</td>\n",
              "      <td>28.6</td>\n",
              "      <td>2022-03-01 13:26</td>\n",
              "      <td>...</td>\n",
              "      <td>...</td>\n",
              "      <td>...</td>\n",
              "      <td>...</td>\n",
              "      <td>...</td>\n",
              "      <td>...</td>\n",
              "      <td>...</td>\n",
              "      <td>...</td>\n",
              "      <td>...</td>\n",
              "      <td>...</td>\n",
              "      <td>...</td>\n",
              "    </tr>\n",
              "    <tr>\n",
              "      <th>2</th>\n",
              "      <td>02</td>\n",
              "      <td>1010.0</td>\n",
              "      <td>...</td>\n",
              "      <td>1012.0</td>\n",
              "      <td>2022-03-02 09:21</td>\n",
              "      <td>1007.9</td>\n",
              "      <td>2022-03-02 15:05</td>\n",
              "      <td>21.6</td>\n",
              "      <td>26.6</td>\n",
              "      <td>2022-03-02 14:45</td>\n",
              "      <td>...</td>\n",
              "      <td>...</td>\n",
              "      <td>...</td>\n",
              "      <td>...</td>\n",
              "      <td>...</td>\n",
              "      <td>...</td>\n",
              "      <td>...</td>\n",
              "      <td>...</td>\n",
              "      <td>...</td>\n",
              "      <td>...</td>\n",
              "      <td>...</td>\n",
              "    </tr>\n",
              "    <tr>\n",
              "      <th>3</th>\n",
              "      <td>03</td>\n",
              "      <td>1009.4</td>\n",
              "      <td>...</td>\n",
              "      <td>1012.2</td>\n",
              "      <td>2022-03-03 09:26</td>\n",
              "      <td>1006.9</td>\n",
              "      <td>2022-03-03 15:16</td>\n",
              "      <td>21.2</td>\n",
              "      <td>28.5</td>\n",
              "      <td>2022-03-03 14:06</td>\n",
              "      <td>...</td>\n",
              "      <td>...</td>\n",
              "      <td>...</td>\n",
              "      <td>...</td>\n",
              "      <td>...</td>\n",
              "      <td>...</td>\n",
              "      <td>...</td>\n",
              "      <td>...</td>\n",
              "      <td>...</td>\n",
              "      <td>...</td>\n",
              "      <td>...</td>\n",
              "    </tr>\n",
              "    <tr>\n",
              "      <th>4</th>\n",
              "      <td>04</td>\n",
              "      <td>1007.4</td>\n",
              "      <td>...</td>\n",
              "      <td>1010.1</td>\n",
              "      <td>2022-03-04 09:15</td>\n",
              "      <td>1004.9</td>\n",
              "      <td>2022-03-04 16:22</td>\n",
              "      <td>22.5</td>\n",
              "      <td>28.4</td>\n",
              "      <td>2022-03-04 14:51</td>\n",
              "      <td>...</td>\n",
              "      <td>...</td>\n",
              "      <td>...</td>\n",
              "      <td>...</td>\n",
              "      <td>...</td>\n",
              "      <td>...</td>\n",
              "      <td>...</td>\n",
              "      <td>...</td>\n",
              "      <td>...</td>\n",
              "      <td>...</td>\n",
              "      <td>...</td>\n",
              "    </tr>\n",
              "    <tr>\n",
              "      <th>5</th>\n",
              "      <td>05</td>\n",
              "      <td>1006.6</td>\n",
              "      <td>...</td>\n",
              "      <td>1008.3</td>\n",
              "      <td>2022-03-05 10:04</td>\n",
              "      <td>1005.0</td>\n",
              "      <td>2022-03-05 15:50</td>\n",
              "      <td>22.0</td>\n",
              "      <td>26.5</td>\n",
              "      <td>2022-03-05 14:00</td>\n",
              "      <td>...</td>\n",
              "      <td>...</td>\n",
              "      <td>...</td>\n",
              "      <td>...</td>\n",
              "      <td>...</td>\n",
              "      <td>...</td>\n",
              "      <td>...</td>\n",
              "      <td>...</td>\n",
              "      <td>...</td>\n",
              "      <td>...</td>\n",
              "      <td>...</td>\n",
              "    </tr>\n",
              "  </tbody>\n",
              "</table>\n",
              "<p>5 rows × 35 columns</p>\n",
              "</div>"
            ],
            "text/plain": [
              "  觀測時間(day) 測站氣壓(hPa) 海平面氣壓(hPa) 測站最高氣壓(hPa)     測站最高氣壓時間(LST) 測站最低氣壓(hPa)  \\\n",
              "1        01    1010.0        ...      1012.4  2022-03-01 08:35      1007.7   \n",
              "2        02    1010.0        ...      1012.0  2022-03-02 09:21      1007.9   \n",
              "3        03    1009.4        ...      1012.2  2022-03-03 09:26      1006.9   \n",
              "4        04    1007.4        ...      1010.1  2022-03-04 09:15      1004.9   \n",
              "5        05    1006.6        ...      1008.3  2022-03-05 10:04      1005.0   \n",
              "\n",
              "      測站最低氣壓時間(LST) 氣溫(℃) 最高氣溫(℃)       最高氣溫時間(LST)  ... 最大六十分鐘降水量(mm)  \\\n",
              "1  2022-03-01 15:55  22.5    28.6  2022-03-01 13:26  ...           ...   \n",
              "2  2022-03-02 15:05  21.6    26.6  2022-03-02 14:45  ...           ...   \n",
              "3  2022-03-03 15:16  21.2    28.5  2022-03-03 14:06  ...           ...   \n",
              "4  2022-03-04 16:22  22.5    28.4  2022-03-04 14:51  ...           ...   \n",
              "5  2022-03-05 15:50  22.0    26.5  2022-03-05 14:00  ...           ...   \n",
              "\n",
              "  最大六十分鐘降水量起始時間(LST) 日照時數(hour) 日照率(%) 全天空日射量(MJ/㎡) 能見度(km) A型蒸發量(mm)  \\\n",
              "1                ...        ...    ...          ...     ...       ...   \n",
              "2                ...        ...    ...          ...     ...       ...   \n",
              "3                ...        ...    ...          ...     ...       ...   \n",
              "4                ...        ...    ...          ...     ...       ...   \n",
              "5                ...        ...    ...          ...     ...       ...   \n",
              "\n",
              "  日最高紫外線指數 日最高紫外線指數時間(LST) 總雲量(0~10)  \n",
              "1      ...             ...       ...  \n",
              "2      ...             ...       ...  \n",
              "3      ...             ...       ...  \n",
              "4      ...             ...       ...  \n",
              "5      ...             ...       ...  \n",
              "\n",
              "[5 rows x 35 columns]"
            ]
          },
          "execution_count": 26,
          "metadata": {},
          "output_type": "execute_result"
        }
      ],
      "source": [
        "df_1[:5]"
      ]
    },
    {
      "cell_type": "code",
      "execution_count": null,
      "metadata": {},
      "outputs": [],
      "source": []
    },
    {
      "cell_type": "markdown",
      "metadata": {
        "id": "ks4xC0COhGA6"
      },
      "source": [
        "### 查看資料的形狀\n",
        "返回(行數,列數)"
      ]
    },
    {
      "cell_type": "code",
      "execution_count": null,
      "metadata": {},
      "outputs": [],
      "source": []
    },
    {
      "cell_type": "markdown",
      "metadata": {
        "id": "MjfjnlJ9hWS6"
      },
      "source": [
        "### 查看標題"
      ]
    },
    {
      "cell_type": "markdown",
      "metadata": {
        "id": "FJ1AuCkviCaq"
      },
      "source": [
        "### 查看資料型態"
      ]
    },
    {
      "cell_type": "markdown",
      "metadata": {
        "id": "VMhOWFTmhm4R"
      },
      "source": [
        "### 查看索引"
      ]
    },
    {
      "cell_type": "markdown",
      "metadata": {
        "id": "wfOE4J_h5BV0"
      },
      "source": [
        "# 04.Pandas查詢資料\n",
        "1. df.loc: 根據行列的標籤值查詢\n",
        "2. df.iloc: 根據行列的位置查詢\n",
        "3. df.where\n",
        "4. df.query"
      ]
    },
    {
      "cell_type": "code",
      "execution_count": 44,
      "metadata": {},
      "outputs": [
        {
          "data": {
            "text/plain": [
              "觀測時間(day)                           04\n",
              "測站氣壓(hPa)                       1007.4\n",
              "海平面氣壓(hPa)                         ...\n",
              "測站最高氣壓(hPa)                     1010.1\n",
              "測站最高氣壓時間(LST)         2022-03-04 09:15\n",
              "測站最低氣壓(hPa)                     1004.9\n",
              "測站最低氣壓時間(LST)         2022-03-04 16:22\n",
              "氣溫(℃)                             22.5\n",
              "最高氣溫(℃)                           28.4\n",
              "最高氣溫時間(LST)           2022-03-04 14:51\n",
              "最低氣溫(℃)                           18.4\n",
              "最低氣溫時間(LST)           2022-03-04 07:01\n",
              "露點溫度(℃)                            ...\n",
              "相對溼度(%)                             73\n",
              "最小相對溼度(%)                           45\n",
              "最小相對溼度時間(LST)         2022-03-04 14:51\n",
              "風速(m/s)                            0.8\n",
              "風向(360degree)                       95\n",
              "最大陣風(m/s)                          5.8\n",
              "最大陣風風向(360degree)                  333\n",
              "最大陣風風速時間(LST)         2022-03-04 16:34\n",
              "降水量(mm)                            0.0\n",
              "降水時數(hour)                         ...\n",
              "最大十分鐘降水量(mm)                       ...\n",
              "最大十分鐘降水量起始時間(LST)                  ...\n",
              "最大六十分鐘降水量(mm)                      ...\n",
              "最大六十分鐘降水量起始時間(LST)                 ...\n",
              "日照時數(hour)                         ...\n",
              "日照率(%)                             ...\n",
              "全天空日射量(MJ/㎡)                       ...\n",
              "能見度(km)                            ...\n",
              "A型蒸發量(mm)                          ...\n",
              "日最高紫外線指數                           ...\n",
              "日最高紫外線指數時間(LST)                    ...\n",
              "總雲量(0~10)                          ...\n",
              "Name: 4, dtype: object"
            ]
          },
          "execution_count": 44,
          "metadata": {},
          "output_type": "execute_result"
        }
      ],
      "source": [
        "df_csv.loc[4]"
      ]
    },
    {
      "cell_type": "code",
      "execution_count": 33,
      "metadata": {},
      "outputs": [
        {
          "data": {
            "text/plain": [
              "觀測時間(day)                           01\n",
              "測站氣壓(hPa)                       1010.0\n",
              "海平面氣壓(hPa)                         ...\n",
              "測站最高氣壓(hPa)                     1012.4\n",
              "測站最高氣壓時間(LST)         2022-03-01 08:35\n",
              "測站最低氣壓(hPa)                     1007.7\n",
              "測站最低氣壓時間(LST)         2022-03-01 15:55\n",
              "氣溫(℃)                             22.5\n",
              "最高氣溫(℃)                           28.6\n",
              "最高氣溫時間(LST)           2022-03-01 13:26\n",
              "最低氣溫(℃)                           17.1\n",
              "最低氣溫時間(LST)           2022-03-01 02:36\n",
              "露點溫度(℃)                            ...\n",
              "相對溼度(%)                             69\n",
              "最小相對溼度(%)                           46\n",
              "最小相對溼度時間(LST)         2022-03-01 11:59\n",
              "風速(m/s)                            1.1\n",
              "風向(360degree)                        3\n",
              "最大陣風(m/s)                          5.7\n",
              "最大陣風風向(360degree)                    2\n",
              "最大陣風風速時間(LST)         2022-03-01 16:13\n",
              "降水量(mm)                            0.0\n",
              "降水時數(hour)                         ...\n",
              "最大十分鐘降水量(mm)                       ...\n",
              "最大十分鐘降水量起始時間(LST)                  ...\n",
              "最大六十分鐘降水量(mm)                      ...\n",
              "最大六十分鐘降水量起始時間(LST)                 ...\n",
              "日照時數(hour)                         ...\n",
              "日照率(%)                             ...\n",
              "全天空日射量(MJ/㎡)                       ...\n",
              "能見度(km)                            ...\n",
              "A型蒸發量(mm)                          ...\n",
              "日最高紫外線指數                           ...\n",
              "日最高紫外線指數時間(LST)                    ...\n",
              "總雲量(0~10)                          ...\n",
              "Name: 1, dtype: object"
            ]
          },
          "execution_count": 33,
          "metadata": {},
          "output_type": "execute_result"
        }
      ],
      "source": [
        "df_csv.iloc[5]"
      ]
    },
    {
      "cell_type": "markdown",
      "metadata": {
        "id": "dd1GU5xf5pXE"
      },
      "source": [
        "## df.loc 查詢方法\n",
        "* 適用於行也適用於列\n",
        "* 注意觀察降維的DataFrame -> Series -> Value"
      ]
    },
    {
      "cell_type": "markdown",
      "metadata": {
        "id": "XGvt7DS5EwCO"
      },
      "source": [
        "### 使用單個label的值查詢"
      ]
    },
    {
      "cell_type": "markdown",
      "metadata": {
        "id": "THXYRPkVFi_R"
      },
      "source": [
        "### 使用值列批量查詢"
      ]
    },
    {
      "cell_type": "markdown",
      "metadata": {
        "id": "NUqJUlkLGTzr"
      },
      "source": [
        "### 使用區間進行範圍查詢"
      ]
    },
    {
      "cell_type": "markdown",
      "metadata": {
        "id": "9yZ-wCqdHFWo"
      },
      "source": [
        "### 使用條件表達式查詢\n",
        "* 使用布林列表 Boolean Series 作為條件表達式\n",
        "* Boolean Series的長度得於行數或是列數"
      ]
    },
    {
      "cell_type": "markdown",
      "metadata": {
        "id": "qc6eBJ4sk9rm"
      },
      "source": [
        "### 使用函式查詢"
      ]
    },
    {
      "cell_type": "markdown",
      "metadata": {
        "id": "YIg38NihwsG-"
      },
      "source": [
        "# 05.Pandas新增資料\n",
        "在進行數據分析時, 經常需要按照一定條件創建新的數據資料, 然後進行下一步的分析\n",
        "\n",
        "1. 直接賦值\n",
        "2. df.appy\n",
        "3. df.assign\n",
        "4. 按照條件選擇分組來分別賦值"
      ]
    },
    {
      "cell_type": "markdown",
      "metadata": {
        "id": "snTo1SeNxYsM"
      },
      "source": [
        "## 直接賦值的方法"
      ]
    },
    {
      "cell_type": "markdown",
      "metadata": {
        "id": "GhQnBF_Z5a4Z"
      },
      "source": [
        "## df.apply方法\n",
        "Apply一個函數處理DataFrame的Column(axis=1) 或是 Row(axis=0)"
      ]
    },
    {
      "cell_type": "markdown",
      "metadata": {
        "id": "eyPl-m3_E07p"
      },
      "source": [
        "## df.assign方法\n",
        "Assign一個新的column到原本的DataFrame中\n",
        "\n"
      ]
    },
    {
      "cell_type": "markdown",
      "metadata": {
        "id": "5cR0hmMT_F57"
      },
      "source": [
        "## 按照條件選擇分別賦值\n",
        "按照條件先選擇數據, 然後對部分資料賦值"
      ]
    },
    {
      "cell_type": "markdown",
      "metadata": {
        "id": "mD7WHUL1ZDTX"
      },
      "source": [
        "# 06.Pandas資料統計\n",
        "* 匯總統計\n",
        "* 唯一去重與按值計數\n",
        "* 相關係數和與斜方差"
      ]
    },
    {
      "cell_type": "markdown",
      "metadata": {
        "id": "XKmml2McaFjM"
      },
      "source": [
        "## 匯總統計"
      ]
    },
    {
      "cell_type": "markdown",
      "metadata": {
        "id": "yuMivj8raxK-"
      },
      "source": [
        "### 平均: df.mean()"
      ]
    },
    {
      "cell_type": "markdown",
      "metadata": {
        "id": "pJaehRQva4o-"
      },
      "source": [
        "### 最大值: df.max()"
      ]
    },
    {
      "cell_type": "markdown",
      "metadata": {
        "id": "GEl1od3-a_29"
      },
      "source": [
        "### 最小值: df.min()"
      ]
    },
    {
      "cell_type": "markdown",
      "metadata": {
        "id": "fGVtrO99bT8M"
      },
      "source": [
        "### 資料描述: df.describe()"
      ]
    },
    {
      "cell_type": "markdown",
      "metadata": {
        "id": "NyCmQ2XTfKls"
      },
      "source": [
        "## 唯一去重與按值計數"
      ]
    },
    {
      "cell_type": "markdown",
      "metadata": {
        "id": "VToGjM1WiG3s"
      },
      "source": [
        "### 唯一去重\n",
        "一般不用於數值列, 而是枚舉或分類列"
      ]
    },
    {
      "cell_type": "markdown",
      "metadata": {
        "id": "IctsjOk1ieZs"
      },
      "source": [
        "### 按值計數"
      ]
    },
    {
      "cell_type": "markdown",
      "metadata": {
        "id": "cC5D3qJZpAoL"
      },
      "source": [
        "## 相關係數與斜方差\n",
        "**用途**:\n",
        "1. 兩支股票是不是同漲同跌? 程度多大? 正相關或負相關?\n",
        "2. 產品銷量的波動, 跟那些因素正相關? 負相關? 程度多大?\n"
      ]
    },
    {
      "cell_type": "markdown",
      "metadata": {
        "id": "n60HG7HGqMn9"
      },
      "source": [
        "### 相關係數 df.corr()\n",
        "衡量相似程度\n",
        "* 當相關係數為1時, 說明兩個變量變化時的正向相似度最大\n",
        "* 當相關係數為-1時, 說明兩個變量變化時的反向相似度最大"
      ]
    },
    {
      "cell_type": "markdown",
      "metadata": {
        "id": "9385GMOkpkH6"
      },
      "source": [
        "### 協方差\n",
        "衡量同/反方向程度\n",
        "* 如果協方差為正: 說明X,Y同向變化, 協方差越大說明同向程度越高\n",
        "* 如果協方查為負: 說明X,Y反向運動, 協方差越小說明反向程度越高\n",
        "\n"
      ]
    },
    {
      "cell_type": "code",
      "execution_count": null,
      "metadata": {
        "id": "jTAtca_sid0M"
      },
      "outputs": [],
      "source": []
    },
    {
      "cell_type": "markdown",
      "metadata": {
        "id": "RmL9QGg6hbjj"
      },
      "source": [
        "# 07.Pandas缺失值處理\n",
        "\n",
        "* 檢測: isnull & notnull\n",
        "* 丟棄: dropna\n",
        "* 填充: fillna"
      ]
    },
    {
      "cell_type": "markdown",
      "metadata": {
        "id": "GcSSaMRBixA7"
      },
      "source": [
        "## 讀取時略過前幾個行(Rows)"
      ]
    },
    {
      "cell_type": "markdown",
      "metadata": {
        "id": "P95KKVjjjxAi"
      },
      "source": [
        "## 檢測空值 Null\n",
        "檢測是否為空值, 可用於DataFrame和Series"
      ]
    },
    {
      "cell_type": "markdown",
      "metadata": {
        "id": "Z7FPeBIM2LrT"
      },
      "source": [
        "### df.isnull()"
      ]
    },
    {
      "cell_type": "markdown",
      "metadata": {
        "id": "FsZQlBqL2QsS"
      },
      "source": [
        "### df.notnull()"
      ]
    },
    {
      "cell_type": "markdown",
      "metadata": {
        "id": "FVbhm1-i2lOp"
      },
      "source": [
        "## 丟棄空值 df.dropna()\n",
        "* axis:刪除行row或是列column\n",
        "    * row: 0 or 'index'\n",
        "    * column: 1 or 'column'\n",
        "* how:\n",
        "    * 如果等於'any'則任何值為空都刪除\n",
        "    * 如果等於'all'則所有值都為空才刪\n",
        "* inplace:\n",
        "    * 如果為True則修改當前DataFrame\n",
        "    * 如果為False則返回新的DataFrame"
      ]
    },
    {
      "cell_type": "markdown",
      "metadata": {
        "id": "ljjIYM5mlNuU"
      },
      "source": [
        "### 刪除全是空值的columns"
      ]
    },
    {
      "cell_type": "markdown",
      "metadata": {
        "id": "LhCVoDJalucp"
      },
      "source": [
        "### 刪除全是空值的rows"
      ]
    },
    {
      "cell_type": "markdown",
      "metadata": {
        "id": "ScDKIC4_ptVi"
      },
      "source": [
        "## 填充空值 df.fillna()\n",
        "將空值的cell填充\n",
        "* value: 用於填充的值, 可以是單個值或是字典(key是column的名稱, value是值)\n",
        "* method:\n",
        "  * ffill: 使用前一個不為空的值填充, forword fill\n",
        "  * bfill: 使用後一個不為空的值填充, backword fill\n",
        "* axis: 按'行row'或'列column'進行填充\n",
        " * row: 0 or 'index'\n",
        " * column: 1 or 'columns'\n",
        "* inplace:\n",
        "  * 如果為True則修改當前的DataFrame\n",
        "  * 如果為False則返回新的DataFrame\n"
      ]
    },
    {
      "cell_type": "markdown",
      "metadata": {
        "id": "KyEfhvniiskF"
      },
      "source": [
        "### 將空值的cell填充為0"
      ]
    },
    {
      "cell_type": "markdown",
      "metadata": {
        "id": "P_yz00INOdTL"
      },
      "source": [
        "# 08.Setting with Copy Warning"
      ]
    },
    {
      "cell_type": "markdown",
      "metadata": {
        "id": "rPt2BlvOavIF"
      },
      "source": [
        "## **Setting with Copy Warning**\n",
        "* 警報重現\n",
        "* 警報原因\n",
        "* 解決方案"
      ]
    },
    {
      "cell_type": "markdown",
      "metadata": {
        "id": "MFeM3yO7bKQM"
      },
      "source": [
        "## **警報重現**"
      ]
    },
    {
      "cell_type": "markdown",
      "metadata": {
        "id": "YLmkT037buBW"
      },
      "source": [
        "## **警報原因**\n",
        "df[condition]['溫差F'] = df['最高溫F'] - df['最低溫F']\n",
        "\n",
        "相當於: **df.get(condition)**.set(溫差)\n",
        "\n",
        "鏈是操作其實是兩個步驟, 先get後set, get得到的DataFrame可能是view也可能是copy\n",
        "\n",
        "Pandas 的 DataFrame 修改只允許在原本的DataFrame上進行, 一步到位"
      ]
    },
    {
      "cell_type": "markdown",
      "metadata": {
        "id": "sxoEIinKdOMc"
      },
      "source": [
        "## **解決方法 1**\n",
        "將get+set的兩步操作, 改成set的一步操作"
      ]
    },
    {
      "cell_type": "markdown",
      "metadata": {
        "id": "3Tb-gJosdhH1"
      },
      "source": [
        "## **解決方法2**\n",
        "如果需要預先猜選資料作為後續的處理分析, 使用copy來複製DataFrame"
      ]
    },
    {
      "cell_type": "markdown",
      "metadata": {
        "id": "eenoM0Qod_Tp"
      },
      "source": [
        "Pandas不允許先篩選subDataFrame再進行修改寫入\n",
        "* 使用df.loc實現一個步驟直接修改原本的DataFrame\n",
        "* 先複製一個subDataFrame再一個步驟執行修改"
      ]
    },
    {
      "cell_type": "markdown",
      "metadata": {
        "id": "5k3pFFKQeZod"
      },
      "source": []
    },
    {
      "cell_type": "markdown",
      "metadata": {
        "id": "5rivAh_mzXla"
      },
      "source": [
        "# 09.Pandas資料排序"
      ]
    },
    {
      "cell_type": "markdown",
      "metadata": {
        "id": "vv6QwoxTzds1"
      },
      "source": [
        "## **Series的排序**\n",
        "Series.sort_values(ascending=True, inplace=False)\n",
        "\n",
        "**參數說明**\n",
        "* ascending: 默認為True遞增排序, False為遞減排序\n",
        "* inplace: 是否修改原始Series"
      ]
    },
    {
      "cell_type": "markdown",
      "metadata": {
        "id": "fjabTsy30Hv4"
      },
      "source": [
        "## **DataFrame的排序**\n",
        "DataFrame.sort_values(by, ascending=True, inplace=False)\n",
        "\n",
        "**參數說明**\n",
        "* by: 字串或List, 單列排序或多列排序\n",
        "* ascending: bool或list, 默認為True遞增, False為遞減; 如果是list會對應by的多列排序順序\n",
        "* inplcae: 是否修改原始DataFrame"
      ]
    },
    {
      "cell_type": "markdown",
      "metadata": {
        "id": "aB7tVhyC0P-z"
      },
      "source": [
        "### 單列排序"
      ]
    },
    {
      "cell_type": "markdown",
      "metadata": {
        "id": "rRsgmp5O0oei"
      },
      "source": [
        "### 多列排序"
      ]
    },
    {
      "cell_type": "markdown",
      "metadata": {
        "id": "8nt4rdPLhJDY"
      },
      "source": [
        "# 10.Pandas字串處理"
      ]
    },
    {
      "cell_type": "markdown",
      "metadata": {
        "id": "o4uABPpErT6D"
      },
      "source": [
        "前面已經使用了字串的處理函數: df.str.replace()\n",
        "\n",
        "**Pandas的字串處理**\n",
        "1. 使用方法: 先獲取Series的str屬性,然後在屬性上調用函數\n",
        "2. 只能在字串列上使用(object), 不能在數字列上使用\n",
        "3. DataFrame上沒有str屬性和處理方法\n",
        "4. Series.str不是Python原生字串,而是一套自己的方法(不過大部分和原生string很相似)\n",
        "\n",
        "**Series.str 字串方法列表參考文件**\n",
        "\n",
        "https://pandas.pydata.org/docs/reference/series.html#string-handling"
      ]
    },
    {
      "cell_type": "markdown",
      "metadata": {
        "id": "T7GwTeGYh1qy"
      },
      "source": [
        "## **獲取Series的str屬性** **bold text**\n",
        "使用各種字串處理函數"
      ]
    },
    {
      "cell_type": "markdown",
      "metadata": {
        "id": "zWBCO8axk817"
      },
      "source": [
        "## **Boolean查詢條件**\n",
        "使用 str.startwith() , str.contains()得到布林值的Series作為查詢條件"
      ]
    },
    {
      "cell_type": "markdown",
      "metadata": {
        "id": "9UYgfrm5l8OD"
      },
      "source": [
        "## **需要多次str處理的鏈是操作**\n",
        "怎樣提取202203這樣的數字月份\n",
        "1. 先將日期2022-03-31替換成20220331的形式\n",
        "2. 提取月份字串202203"
      ]
    },
    {
      "cell_type": "markdown",
      "metadata": {
        "id": "0k2odqJ5n91n"
      },
      "source": [
        "## **使用正則表達式的處理**"
      ]
    },
    {
      "cell_type": "markdown",
      "metadata": {
        "id": "IqB-du9DqJv7"
      },
      "source": [
        "**問題:** 怎麼將 \"2022年03月31日\"中的年,月,日三個中文字串去除?"
      ]
    },
    {
      "cell_type": "markdown",
      "metadata": {
        "id": "gyZGL8DNq0nK"
      },
      "source": [
        "Series.str默認就開啟了政則表達式模式"
      ]
    },
    {
      "cell_type": "markdown",
      "metadata": {
        "id": "a_CiMJ7L_Mgp"
      },
      "source": [
        "# 11.Pandas的axis參數"
      ]
    },
    {
      "cell_type": "markdown",
      "metadata": {
        "id": "RGS7WUbn_Szq"
      },
      "source": [
        "* **axis=0 或 'index'**\n",
        "  * 如果是單個row操作, 就指的是某一個row\n",
        "  * 如果是聚合操作, 指的是cross rows\n",
        "\n",
        "* **axis=1 或 'columns'**\n",
        "  * 如果是單個column操作, 就指的是某一個column\n",
        "  * 如果是聚合操作, 指的是cross columns\n",
        "\n",
        "**按哪個axis, 就是這個axis要動起來, 其他的axis保持不動**\n"
      ]
    },
    {
      "cell_type": "markdown",
      "metadata": {
        "id": "nkADwtcpA_p7"
      },
      "source": [
        "## **單個column drop**\n",
        "就是刪除某一個column"
      ]
    },
    {
      "cell_type": "markdown",
      "metadata": {
        "id": "wH2CW9XyBlwy"
      },
      "source": [
        "## **單個row drop**\n",
        "就是刪除某一個row就是刪除某一個row"
      ]
    },
    {
      "cell_type": "markdown",
      "metadata": {
        "id": "t7V6PmooB7mj"
      },
      "source": [
        "## **按axis=0/'index'執行mean聚合操作**"
      ]
    },
    {
      "cell_type": "markdown",
      "metadata": {
        "id": "05YuKrngClGc"
      },
      "source": [
        "**按哪個axis, 就是這個axis要動起來, 其他的axis保持不動**\n",
        "\n",
        "類似for loop的概念"
      ]
    },
    {
      "cell_type": "markdown",
      "metadata": {
        "id": "Q3tBE0IyDfRK"
      },
      "source": [
        "## **按axis=1/'columns'執行mean聚合操作**"
      ]
    },
    {
      "cell_type": "markdown",
      "metadata": {
        "id": "9VMEAsUPDmpe"
      },
      "source": [
        "**按哪個axis, 就是這個axis要動起來, 其他的axis保持不動**\n",
        "\n",
        "類似for loop的概念"
      ]
    },
    {
      "cell_type": "markdown",
      "metadata": {
        "id": "3t3611MRECQz"
      },
      "source": [
        "## **加深理解**"
      ]
    }
  ],
  "metadata": {
    "colab": {
      "provenance": [],
      "toc_visible": true
    },
    "kernelspec": {
      "display_name": "Python 3",
      "name": "python3"
    },
    "language_info": {
      "codemirror_mode": {
        "name": "ipython",
        "version": 3
      },
      "file_extension": ".py",
      "mimetype": "text/x-python",
      "name": "python",
      "nbconvert_exporter": "python",
      "pygments_lexer": "ipython3",
      "version": "3.12.0"
    }
  },
  "nbformat": 4,
  "nbformat_minor": 0
}
